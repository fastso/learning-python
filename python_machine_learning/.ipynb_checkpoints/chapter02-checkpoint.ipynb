{
 "cells": [
  {
   "cell_type": "code",
   "execution_count": 1,
   "metadata": {
    "collapsed": true,
    "pycharm": {
     "is_executing": false
    }
   },
   "outputs": [],
   "source": [
    "import numpy as np\n",
    "\n",
    "class Perceptron(object):\n",
    "    \"\"\"パーセプトロンの分類器\n",
    "\n",
    "    パラメータ\n",
    "    ------------\n",
    "    eta : float\n",
    "      学習率 (0.0 ~ 1.0)\n",
    "    n_iter : int\n",
    "      トレーニング回数\n",
    "    random_state : int\n",
    "      重みを初期化するための乱数シード\n",
    "\n",
    "    属性\n",
    "    -----------\n",
    "    w_ : 1d-array\n",
    "      適合後の重み\n",
    "    errors_ : list\n",
    "      各エポックでの誤分類（更新）の数\n",
    "\n",
    "    \"\"\"\n",
    "    def __init__(self, eta=0.01, n_iter=50, random_state=1):\n",
    "        self.eta = eta\n",
    "        self.n_iter = n_iter\n",
    "        self.random_state = random_state\n",
    "\n",
    "    def fit(self, X, y):\n",
    "        \"\"\"トレーニングデータに適合させる\n",
    "\n",
    "        パラメータ\n",
    "        ----------\n",
    "        X : {配列のようなデータ構造}, shape = [n_samples, n_features]\n",
    "          トレーニングデータ\n",
    "          n_samples はサンプルの個数\n",
    "          n_features は特徴量の個数\n",
    "        y : 配列のようなデータ構造, shape = [n_samples]\n",
    "          目的変数\n",
    "\n",
    "        戻り値\n",
    "        -------\n",
    "        self : object\n",
    "\n",
    "        \"\"\"\n",
    "        rgen = np.random.RandomState(self.random_state)\n",
    "        self.w_ = rgen.normal(loc=0.0, scale=0.01, \n",
    "                              size=1 + X.shape[1])\n",
    "        self.errors_ = []\n",
    "\n",
    "        # トレーニング回数分トレーニングデータを反復\n",
    "        for _ in range(self.n_iter):\n",
    "            errors = 0\n",
    "            # 各サンプルで重みを更新\n",
    "            for xi, target in zip(X, y):\n",
    "                update = self.eta * (target - self.predict(xi))\n",
    "                self.w_[1:] += update * xi\n",
    "                self.w_[0] += update\n",
    "                errors += int(update != 0.0)\n",
    "            self.errors_.append(errors)\n",
    "        return self\n",
    "\n",
    "    def net_input(self, X):\n",
    "        \"\"\"Calculate net input\"\"\"\n",
    "        return np.dot(X, self.w_[1:]) + self.w_[0]\n",
    "\n",
    "    def predict(self, X):\n",
    "        \"\"\"Return class label after unit step\"\"\"\n",
    "        return np.where(self.net_input(X) >= 0.0, 1, -1)\n"
   ]
  },
  {
   "cell_type": "code",
   "execution_count": null,
   "metadata": {
    "pycharm": {
     "name": "#%%\n"
    }
   },
   "outputs": [],
   "source": []
  },
  {
   "cell_type": "markdown",
   "metadata": {},
   "source": [
    "\n"
   ]
  }
 ],
 "metadata": {
  "kernelspec": {
   "display_name": "Python 3",
   "language": "python",
   "name": "python3"
  },
  "language_info": {
   "codemirror_mode": {
    "name": "ipython",
    "version": 3
   },
   "file_extension": ".py",
   "mimetype": "text/x-python",
   "name": "python",
   "nbconvert_exporter": "python",
   "pygments_lexer": "ipython3",
   "version": "3.7.3"
  },
  "pycharm": {
   "stem_cell": {
    "cell_type": "raw",
    "metadata": {
     "collapsed": false
    },
    "source": []
   }
  }
 },
 "nbformat": 4,
 "nbformat_minor": 1
}
